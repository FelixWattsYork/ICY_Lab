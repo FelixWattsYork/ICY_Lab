{
 "cells": [
  {
   "cell_type": "code",
   "execution_count": 1,
   "metadata": {},
   "outputs": [],
   "source": [
    "import pandas as pd\n",
    "import numpy as np"
   ]
  },
  {
   "cell_type": "code",
   "execution_count": 2,
   "metadata": {},
   "outputs": [],
   "source": [
    "def read_experiment_file(filename):\n",
    "    metadata = {}\n",
    "    data = []\n",
    "    \n",
    "    with open(filename, 'r') as file:\n",
    "        lines = file.readlines()\n",
    "    \n",
    "    # Parse metadata\n",
    "    data_start = None\n",
    "    for i, line in enumerate(lines):\n",
    "        if line.strip() == \"\":\n",
    "            continue\n",
    "        \n",
    "        parts = line.split('\\t')\n",
    "        if len(parts) == 2 and not parts[0].replace('.', '', 1).isdigit():\n",
    "            key, value = parts\n",
    "            metadata[key.strip()] = value.strip()\n",
    "        elif \"Current / A\" in parts[0]:\n",
    "            data_start = i + 1\n",
    "            break\n",
    "    \n",
    "    # Read numerical data\n",
    "    if data_start is not None:\n",
    "        for line in lines[data_start:]:\n",
    "            values = line.split('\\t')\n",
    "            if len(values) == 3:\n",
    "                try:\n",
    "                    data.append([float(v) for v in values])\n",
    "                except ValueError:\n",
    "                    continue  # Skip malformed lines\n",
    "    \n",
    "    df = pd.DataFrame(data, columns=[\"Current (A)\", \"Voltage (uV)\", \"Time (s)\"])\n",
    "    \n",
    "    return metadata, df"
   ]
  },
  {
   "cell_type": "code",
   "execution_count": null,
   "metadata": {},
   "outputs": [
    {
     "name": "stdout",
     "output_type": "stream",
     "text": [
      "Metadata: {'Sample': '2mm tape', 'date': '07/01/2025', 'Temperature (K)': '77.00', 'Angle (deg.)': '0.000000', 'field / T': '0.000000'}\n",
      "Data:\n",
      "   Current (A)  Voltage (uV)  Time (s)\n",
      "0    -0.022416     -1.681175     0.000\n",
      "1    -0.022637     -1.692240     0.283\n",
      "2    -0.023539     -1.706892     0.328\n",
      "3     0.080704     -1.971687     0.415\n",
      "4     0.100873     -1.813486     1.006\n"
     ]
    }
   ],
   "source": [
    "filename = \"data/Ic_Data.txt\"  # Change this to your actual file path\n",
    "metadata, df = read_experiment_file(filename)\n",
    "\n",
    "print(\"Metadata:\", metadata)\n",
    "print(\"Data:\")\n",
    "print(df.head())"
   ]
  },
  {
   "cell_type": "code",
   "execution_count": 5,
   "metadata": {},
   "outputs": [
    {
     "name": "stdout",
     "output_type": "stream",
     "text": [
      "[-0.022416 -0.022637 -0.023539  0.080704  0.100873]\n",
      "[-1.681175 -1.69224  -1.706892 -1.971687 -1.813486]\n",
      "[0.    0.283 0.328 0.415 1.006]\n"
     ]
    }
   ],
   "source": [
    "# Convert dataframe columns to NumPy arrays\n",
    "current = df[\"Current (A)\"].to_numpy()\n",
    "voltage = df[\"Voltage (uV)\"].to_numpy()\n",
    "time = df[\"Time (s)\"].to_numpy()\n",
    "\n",
    "print(current[:5])  # Print first 5 values as a check\n",
    "print(voltage[:5])\n",
    "print(time[:5])"
   ]
  }
 ],
 "metadata": {
  "kernelspec": {
   "display_name": ".venv",
   "language": "python",
   "name": "python3"
  },
  "language_info": {
   "codemirror_mode": {
    "name": "ipython",
    "version": 3
   },
   "file_extension": ".py",
   "mimetype": "text/x-python",
   "name": "python",
   "nbconvert_exporter": "python",
   "pygments_lexer": "ipython3",
   "version": "3.13.1"
  }
 },
 "nbformat": 4,
 "nbformat_minor": 2
}
