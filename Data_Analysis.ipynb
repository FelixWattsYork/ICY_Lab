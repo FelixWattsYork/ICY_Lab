{
 "cells": [
  {
   "cell_type": "code",
   "execution_count": 124,
   "metadata": {},
   "outputs": [],
   "source": [
    "import pandas as pd\n",
    "import numpy as np\n",
    "import matplotlib.pyplot as plt\n",
    "import os\n",
    "import argparse\n",
    "import tomli\n",
    "from scipy.optimize import curve_fit"
   ]
  },
  {
   "cell_type": "code",
   "execution_count": 125,
   "metadata": {},
   "outputs": [],
   "source": [
    "def read_experiment_file(filename):\n",
    "    metadata = {}\n",
    "    data = []\n",
    "    \n",
    "    with open(filename, 'r') as file:\n",
    "        lines = file.readlines()\n",
    "    \n",
    "    # Parse metadata\n",
    "    data_start = None\n",
    "    for i, line in enumerate(lines):\n",
    "        if line.strip() == \"\":\n",
    "            continue\n",
    "        \n",
    "        parts = line.split('\\t')\n",
    "        if len(parts) == 2 and not parts[0].replace('.', '', 1).isdigit():\n",
    "            key, value = parts\n",
    "            metadata[key.strip()] = value.strip()\n",
    "        elif \"Current / A\" in parts[0]:\n",
    "            data_start = i + 1\n",
    "            break\n",
    "    \n",
    "    # Read numerical data\n",
    "    if data_start is not None:\n",
    "        for line in lines[data_start:]:\n",
    "            values = line.split('\\t')\n",
    "            if len(values) == 3:\n",
    "                try:\n",
    "                    data.append([float(v) for v in values])\n",
    "                except ValueError:\n",
    "                    continue  # Skip malformed lines\n",
    "    \n",
    "    df = pd.DataFrame(data, columns=[\"Current (A)\", \"Voltage (uV)\", \"Time (s)\"])\n",
    "    \n",
    "    return metadata, df"
   ]
  },
  {
   "cell_type": "code",
   "execution_count": 126,
   "metadata": {},
   "outputs": [
    {
     "name": "stdout",
     "output_type": "stream",
     "text": [
      "Metadata: {'Sample': '2mm tape', 'date': '07/01/2025', 'Temperature (K)': '77.00', 'Angle (deg.)': '0.000000', 'field / T': '0.000000'}\n",
      "Data:\n",
      "   Current (A)  Voltage (uV)  Time (s)\n",
      "0    -0.022416     -1.681175     0.000\n",
      "1    -0.022637     -1.692240     0.283\n",
      "2    -0.023539     -1.706892     0.328\n",
      "3     0.080704     -1.971687     0.415\n",
      "4     0.100873     -1.813486     1.006\n"
     ]
    }
   ],
   "source": [
    "filename = \"data/Ic_Data.txt\"  # Change this to your actual file path\n",
    "metadata, df = read_experiment_file(filename)\n",
    "\n",
    "print(\"Metadata:\", metadata)\n",
    "print(\"Data:\")\n",
    "print(df.head())"
   ]
  },
  {
   "cell_type": "code",
   "execution_count": 127,
   "metadata": {},
   "outputs": [
    {
     "name": "stdout",
     "output_type": "stream",
     "text": [
      "[-0.022416 -0.022637 -0.023539  0.080704  0.100873]\n",
      "[-1.681175 -1.69224  -1.706892 -1.971687 -1.813486]\n",
      "[0.    0.283 0.328 0.415 1.006]\n"
     ]
    }
   ],
   "source": [
    "# Convert dataframe columns to NumPy arrays\n",
    "current = df[\"Current (A)\"].to_numpy()\n",
    "voltage = df[\"Voltage (uV)\"].to_numpy()\n",
    "time = df[\"Time (s)\"].to_numpy()\n",
    "\n",
    "print(current[:5])  # Print first 5 values as a check\n",
    "print(voltage[:5])\n",
    "print(time[:5])"
   ]
  },
  {
   "cell_type": "code",
   "execution_count": 128,
   "metadata": {},
   "outputs": [],
   "source": [
    "def sigmoid(x):\n",
    "     return np.where(x >= 0, \n",
    "                    1 / (1 + np.exp(-x)), \n",
    "                    np.exp(x) / (1 + np.exp(x))) "
   ]
  },
  {
   "cell_type": "code",
   "execution_count": 129,
   "metadata": {},
   "outputs": [],
   "source": [
    "def discontinous(time,a,b,c,d,n):\n",
    "    y = time-b\n",
    "    return a*time+c + d*sigmoid(y/10)*np.abs(y)**np.clip(n, -10, 10)"
   ]
  },
  {
   "cell_type": "code",
   "execution_count": 130,
   "metadata": {},
   "outputs": [],
   "source": [
    "def piecewise_function(x, a, b, c, n, x_transition):\n",
    "    \"\"\"Piecewise function: linear for x < x_transition, power-law for x >= x_transition.\"\"\"\n",
    "    y = np.piecewise(x, \n",
    "                      [x < x_transition, x >= x_transition], \n",
    "                      [lambda x: a * x + b, \n",
    "                       lambda x: c * (x ** n)])\n",
    "    return y"
   ]
  },
  {
   "cell_type": "code",
   "execution_count": 143,
   "metadata": {},
   "outputs": [],
   "source": [
    "def straight_line(time,a,b):\n",
    "    return a*time+b"
   ]
  },
  {
   "cell_type": "code",
   "execution_count": 131,
   "metadata": {},
   "outputs": [],
   "source": [
    "def shouldnt(time,a,b,c,d,n):\n",
    "    return a*time +b + c(time+d)**n"
   ]
  },
  {
   "cell_type": "code",
   "execution_count": 161,
   "metadata": {},
   "outputs": [],
   "source": [
    "def plot_voltage(time, voltage, savefig,name,ax=None):\n",
    "    p0 = [0.04, 158, -3, 0.01, 2.6] \n",
    "    if ax is not None:\n",
    "       ax = plt.subplot2grid((3, 3), (0, 0), colspan=2)\n",
    "    popt, pcov = curve_fit(discontinous, time, voltage,p0=p0,bounds=([0, 0, -3, 0, 0],[1, 170, 3, 1, 10]))\n",
    "    #popt, pcov = curve_fit(straight_line, time, voltage)\n",
    "    plt.plot(time,voltage)\n",
    "    plt.plot(time, discontinous(time,*popt), label=\"Fitted Curve\", color=\"blue\")\n",
    "    plt.plot(time, discontinous(time,*p0), label=\"Fitted Curve\", color=\"green\")\n",
    "    #plt.plot(time, straight_line(time,*popt), label=\"Fitted Curve\", color=\"blue\")\n",
    "    plt.xlabel(\"Time\")\n",
    "    plt.ylabel(\"Voltage\")\n",
    "    if savefig:\n",
    "        plt.savefig(os.getcwd() + \"/\" + name)\n",
    "    return ax"
   ]
  },
  {
   "cell_type": "code",
   "execution_count": 160,
   "metadata": {},
   "outputs": [
    {
     "data": {
      "image/png": "[encoded data removed]",
      "text/plain": [
       "<Figure size 640x480 with 1 Axes>"
      ]
     },
     "metadata": {},
     "output_type": "display_data"
    }
   ],
   "source": [
    "plot_voltage(time,voltage,0,\"plot_1\")"
   ]
  }
 ],
 "metadata": {
  "kernelspec": {
   "display_name": ".venv",
   "language": "python",
   "name": "python3"
  },
  "language_info": {
   "codemirror_mode": {
    "name": "ipython",
    "version": 3
   },
   "file_extension": ".py",
   "mimetype": "text/x-python",
   "name": "python",
   "nbconvert_exporter": "python",
   "pygments_lexer": "ipython3",
   "version": "3.13.1"
  }
 },
 "nbformat": 4,
 "nbformat_minor": 2
}
