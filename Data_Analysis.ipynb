{
 "cells": [
  {
   "cell_type": "code",
   "execution_count": 1,
   "metadata": {},
   "outputs": [],
   "source": [
    "import pandas as pd\n",
    "import numpy as np\n",
    "import matplotlib.pyplot as plt\n",
    "import os\n",
    "import argparse\n",
    "import tomli\n",
    "from scipy.optimize import curve_fit"
   ]
  },
  {
   "cell_type": "code",
   "execution_count": 2,
   "metadata": {},
   "outputs": [],
   "source": [
    "def read_experiment_file(filename):\n",
    "    metadata = {}\n",
    "    data = []\n",
    "    \n",
    "    with open(filename, 'r') as file:\n",
    "        lines = file.readlines()\n",
    "    \n",
    "    # Parse metadata\n",
    "    data_start = None\n",
    "    for i, line in enumerate(lines):\n",
    "        if line.strip() == \"\":\n",
    "            continue\n",
    "        \n",
    "        parts = line.split('\\t')\n",
    "        if len(parts) == 2 and not parts[0].replace('.', '', 1).isdigit():\n",
    "            key, value = parts\n",
    "            metadata[key.strip()] = value.strip()\n",
    "        elif \"Current / A\" in parts[0]:\n",
    "            data_start = i + 1\n",
    "            break\n",
    "    \n",
    "    # Read numerical data\n",
    "    if data_start is not None:\n",
    "        for line in lines[data_start:]:\n",
    "            values = line.split('\\t')\n",
    "            if len(values) == 3:\n",
    "                try:\n",
    "                    data.append([float(v) for v in values])\n",
    "                except ValueError:\n",
    "                    continue  # Skip malformed lines\n",
    "    \n",
    "    df = pd.DataFrame(data, columns=[\"Current (A)\", \"Voltage (uV)\", \"Time (s)\"])\n",
    "    \n",
    "    return metadata, df"
   ]
  },
  {
   "cell_type": "code",
   "execution_count": 3,
   "metadata": {},
   "outputs": [],
   "source": [
    "# filename = \"data/Ic_Data.txt\"  # Change this to your actual file path\n",
    "# metadata, df = read_experiment_file(filename)\n",
    "\n",
    "# print(\"Metadata:\", metadata)\n",
    "# print(\"Data:\")\n",
    "# print(df.head())"
   ]
  },
  {
   "cell_type": "code",
   "execution_count": 4,
   "metadata": {},
   "outputs": [],
   "source": [
    "# # Convert dataframe columns to NumPy arrays\n",
    "# current = df[\"Current (A)\"].to_numpy()\n",
    "# voltage = df[\"Voltage (uV)\"].to_numpy()\n",
    "# time = df[\"Time (s)\"].to_numpy()\n",
    "\n",
    "# print(current[:5])  # Print first 5 values as a check\n",
    "# print(voltage[:5])\n",
    "# print(time[:5])"
   ]
  },
  {
   "cell_type": "code",
   "execution_count": 5,
   "metadata": {},
   "outputs": [],
   "source": [
    "def sigmoid(x):\n",
    "     return np.where(x >= 0, \n",
    "                    1 / (1 + np.exp(-x)), \n",
    "                    np.exp(x) / (1 + np.exp(x))) "
   ]
  },
  {
   "cell_type": "code",
   "execution_count": 6,
   "metadata": {},
   "outputs": [],
   "source": [
    "def discontinous(x,a,b,c,d,n):\n",
    "    y = x-b\n",
    "    return a*x+c + d*sigmoid(y/1)*np.abs(y)**np.clip(n, -10, 10)"
   ]
  },
  {
   "cell_type": "code",
   "execution_count": 154,
   "metadata": {},
   "outputs": [],
   "source": [
    "def plot_voltage(cur, volt, savefig,name,ax=None):\n",
    "    #p0 = [0.1, 64, -3, 0.001, 4]\n",
    "    if ax is not None:\n",
    "       ax = plt.subplot2grid((3, 3), (0, 0), colspan=2)\n",
    "    popt, pcov = curve_fit(discontinous, cur, volt,p0=p0,bounds=([0.01, 20, -3, 0, 3],[1, 70, 3, 0.01, 7]))\n",
    "    print(popt)\n",
    "    #print(popt)\n",
    "    plt.plot(cur,volt)\n",
    "    plt.plot(cur, discontinous(cur,*popt), label=\"Fitted Curve\", color=\"blue\")\n",
    "    #plt.plot(cur, discontinous(cur,*p0), label=\"Fitted Curve\", color=\"blue\")\n",
    "    plt.xlabel(\"Current\")\n",
    "    plt.ylabel(\"Voltage\")\n",
    "    if savefig:\n",
    "        plt.savefig(os.getcwd() + \"/\" + name)\n",
    "    return ax"
   ]
  },
  {
   "cell_type": "code",
   "execution_count": 155,
   "metadata": {},
   "outputs": [
    {
     "name": "stdout",
     "output_type": "stream",
     "text": [
      "[ 8.37275591e-02  4.81737546e+01 -2.43799121e+00  1.86655106e-09\n",
      "  7.00000000e+00]\n"
     ]
    },
    {
     "ename": "RuntimeError",
     "evalue": "Optimal parameters not found: The maximum number of function evaluations is exceeded.",
     "output_type": "error",
     "traceback": [
      "\u001b[0;31m---------------------------------------------------------------------------\u001b[0m",
      "\u001b[0;31mRuntimeError\u001b[0m                              Traceback (most recent call last)",
      "Cell \u001b[0;32mIn[155], line 12\u001b[0m\n\u001b[1;32m      9\u001b[0m     voltage_values\u001b[38;5;241m.\u001b[39mappend(voltage)\n\u001b[1;32m     11\u001b[0m \u001b[38;5;28;01mfor\u001b[39;00m i, tesla \u001b[38;5;129;01min\u001b[39;00m \u001b[38;5;28menumerate\u001b[39m(tesla_values):\n\u001b[0;32m---> 12\u001b[0m     \u001b[43mplot_voltage\u001b[49m\u001b[43m(\u001b[49m\u001b[43mcurrent_values\u001b[49m\u001b[43m[\u001b[49m\u001b[43mi\u001b[49m\u001b[43m]\u001b[49m\u001b[43m,\u001b[49m\u001b[43mvoltage_values\u001b[49m\u001b[43m[\u001b[49m\u001b[43mi\u001b[49m\u001b[43m]\u001b[49m\u001b[43m,\u001b[49m\u001b[38;5;241;43m0\u001b[39;49m\u001b[43m,\u001b[49m\u001b[38;5;124;43m\"\u001b[39;49m\u001b[38;5;124;43mplot_1\u001b[39;49m\u001b[38;5;124;43m\"\u001b[39;49m\u001b[43m)\u001b[49m\n\u001b[1;32m     13\u001b[0m \u001b[38;5;66;03m#plot_voltage(current_values[0],voltage_values[0],0,\"plot_1\")\u001b[39;00m\n",
      "Cell \u001b[0;32mIn[154], line 5\u001b[0m, in \u001b[0;36mplot_voltage\u001b[0;34m(cur, volt, savefig, name, ax)\u001b[0m\n\u001b[1;32m      3\u001b[0m \u001b[38;5;28;01mif\u001b[39;00m ax \u001b[38;5;129;01mis\u001b[39;00m \u001b[38;5;129;01mnot\u001b[39;00m \u001b[38;5;28;01mNone\u001b[39;00m:\n\u001b[1;32m      4\u001b[0m    ax \u001b[38;5;241m=\u001b[39m plt\u001b[38;5;241m.\u001b[39msubplot2grid((\u001b[38;5;241m3\u001b[39m, \u001b[38;5;241m3\u001b[39m), (\u001b[38;5;241m0\u001b[39m, \u001b[38;5;241m0\u001b[39m), colspan\u001b[38;5;241m=\u001b[39m\u001b[38;5;241m2\u001b[39m)\n\u001b[0;32m----> 5\u001b[0m popt, pcov \u001b[38;5;241m=\u001b[39m \u001b[43mcurve_fit\u001b[49m\u001b[43m(\u001b[49m\u001b[43mdiscontinous\u001b[49m\u001b[43m,\u001b[49m\u001b[43m \u001b[49m\u001b[43mcur\u001b[49m\u001b[43m,\u001b[49m\u001b[43m \u001b[49m\u001b[43mvolt\u001b[49m\u001b[43m,\u001b[49m\u001b[43mp0\u001b[49m\u001b[38;5;241;43m=\u001b[39;49m\u001b[43mp0\u001b[49m\u001b[43m,\u001b[49m\u001b[43mbounds\u001b[49m\u001b[38;5;241;43m=\u001b[39;49m\u001b[43m(\u001b[49m\u001b[43m[\u001b[49m\u001b[38;5;241;43m0.01\u001b[39;49m\u001b[43m,\u001b[49m\u001b[43m \u001b[49m\u001b[38;5;241;43m20\u001b[39;49m\u001b[43m,\u001b[49m\u001b[43m \u001b[49m\u001b[38;5;241;43m-\u001b[39;49m\u001b[38;5;241;43m3\u001b[39;49m\u001b[43m,\u001b[49m\u001b[43m \u001b[49m\u001b[38;5;241;43m0\u001b[39;49m\u001b[43m,\u001b[49m\u001b[43m \u001b[49m\u001b[38;5;241;43m3\u001b[39;49m\u001b[43m]\u001b[49m\u001b[43m,\u001b[49m\u001b[43m[\u001b[49m\u001b[38;5;241;43m1\u001b[39;49m\u001b[43m,\u001b[49m\u001b[43m \u001b[49m\u001b[38;5;241;43m70\u001b[39;49m\u001b[43m,\u001b[49m\u001b[43m \u001b[49m\u001b[38;5;241;43m3\u001b[39;49m\u001b[43m,\u001b[49m\u001b[43m \u001b[49m\u001b[38;5;241;43m0.01\u001b[39;49m\u001b[43m,\u001b[49m\u001b[43m \u001b[49m\u001b[38;5;241;43m7\u001b[39;49m\u001b[43m]\u001b[49m\u001b[43m)\u001b[49m\u001b[43m)\u001b[49m\n\u001b[1;32m      6\u001b[0m \u001b[38;5;28mprint\u001b[39m(popt)\n\u001b[1;32m      7\u001b[0m \u001b[38;5;66;03m#print(popt)\u001b[39;00m\n",
      "File \u001b[0;32m~/Documents/Physics_Work/durham/ICY_Repo/ICY_Lab/.venv/lib/python3.13/site-packages/scipy/optimize/_minpack_py.py:1029\u001b[0m, in \u001b[0;36mcurve_fit\u001b[0;34m(f, xdata, ydata, p0, sigma, absolute_sigma, check_finite, bounds, method, jac, full_output, nan_policy, **kwargs)\u001b[0m\n\u001b[1;32m   1025\u001b[0m res \u001b[38;5;241m=\u001b[39m least_squares(func, p0, jac\u001b[38;5;241m=\u001b[39mjac, bounds\u001b[38;5;241m=\u001b[39mbounds, method\u001b[38;5;241m=\u001b[39mmethod,\n\u001b[1;32m   1026\u001b[0m                     \u001b[38;5;241m*\u001b[39m\u001b[38;5;241m*\u001b[39mkwargs)\n\u001b[1;32m   1028\u001b[0m \u001b[38;5;28;01mif\u001b[39;00m \u001b[38;5;129;01mnot\u001b[39;00m res\u001b[38;5;241m.\u001b[39msuccess:\n\u001b[0;32m-> 1029\u001b[0m     \u001b[38;5;28;01mraise\u001b[39;00m \u001b[38;5;167;01mRuntimeError\u001b[39;00m(\u001b[38;5;124m\"\u001b[39m\u001b[38;5;124mOptimal parameters not found: \u001b[39m\u001b[38;5;124m\"\u001b[39m \u001b[38;5;241m+\u001b[39m res\u001b[38;5;241m.\u001b[39mmessage)\n\u001b[1;32m   1031\u001b[0m infodict \u001b[38;5;241m=\u001b[39m \u001b[38;5;28mdict\u001b[39m(nfev\u001b[38;5;241m=\u001b[39mres\u001b[38;5;241m.\u001b[39mnfev, fvec\u001b[38;5;241m=\u001b[39mres\u001b[38;5;241m.\u001b[39mfun)\n\u001b[1;32m   1032\u001b[0m ier \u001b[38;5;241m=\u001b[39m res\u001b[38;5;241m.\u001b[39mstatus\n",
      "\u001b[0;31mRuntimeError\u001b[0m: Optimal parameters not found: The maximum number of function evaluations is exceeded."
     ]
    },
    {
     "data": {
      "image/png": "[encoded data removed]",
      "text/plain": [
       "<Figure size 640x480 with 1 Axes>"
      ]
     },
     "metadata": {},
     "output_type": "display_data"
    }
   ],
   "source": [
    "tesla_values = [0.025,0.05,0.1,0.2,0.3,0.4,0.5]\n",
    "current_values = []\n",
    "voltage_values  = []\n",
    "for i, tesla in enumerate(tesla_values):\n",
    "    metadata, df = read_experiment_file(f\"data/Ic_Data_{tesla:.3g}T.txt\")\n",
    "    current = df[\"Current (A)\"].to_numpy()\n",
    "    voltage = df[\"Voltage (uV)\"].to_numpy()\n",
    "    current_values.append(current)\n",
    "    voltage_values.append(voltage)\n",
    "\n",
    "for i, tesla in enumerate(tesla_values):\n",
    "    plot_voltage(current_values[i],voltage_values[i],0,\"plot_1\")\n",
    "#plot_voltage(current_values[0],voltage_values[0],0,\"plot_1\")\n",
    "\n"
   ]
  }
 ],
 "metadata": {
  "kernelspec": {
   "display_name": ".venv",
   "language": "python",
   "name": "python3"
  },
  "language_info": {
   "codemirror_mode": {
    "name": "ipython",
    "version": 3
   },
   "file_extension": ".py",
   "mimetype": "text/x-python",
   "name": "python",
   "nbconvert_exporter": "python",
   "pygments_lexer": "ipython3",
   "version": "3.13.1"
  }
 },
 "nbformat": 4,
 "nbformat_minor": 2
}
